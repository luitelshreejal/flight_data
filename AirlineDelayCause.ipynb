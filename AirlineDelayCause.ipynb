{
 "cells": [
  {
   "cell_type": "code",
   "execution_count": 138,
   "metadata": {},
   "outputs": [],
   "source": [
    "import pandas as pd\n",
    "import numpy as np\n",
    "import seaborn as sns\n",
    "from sklearn.linear_model import LinearRegression\n",
    "from sklearn.model_selection import train_test_split\n",
    "import matplotlib.pyplot as plt\n",
    "from sklearn import svm\n",
    "from sklearn import metrics\n",
    "from sklearn.linear_model import LogisticRegression"
   ]
  },
  {
   "cell_type": "code",
   "execution_count": 139,
   "metadata": {},
   "outputs": [],
   "source": [
    "df = pd.read_csv('./Airline_Delay_Cause.csv')"
   ]
  },
  {
   "cell_type": "code",
   "execution_count": 186,
   "metadata": {},
   "outputs": [
    {
     "data": {
      "text/plain": [
       "Index(['year', 'month', 'carrier', 'carrier_name', 'airport', 'arr_flights',\n",
       "       'arr_del15', 'carrier_ct', 'weather_ct', 'security_ct', 'on_time'],\n",
       "      dtype='object')"
      ]
     },
     "execution_count": 186,
     "metadata": {},
     "output_type": "execute_result"
    }
   ],
   "source": [
    "df.head()\n",
    "\n",
    "#******* NOTE: WE DON'T HAVE ENOUGH DATA TO MAKE GOOD PREDICTIONS AND DATA SHOULDN'T BE SAMPLED WITH_REPLACEMENT \n",
    "#*******IN THIS CASEGIVEN THAT IT LEADS TO OVERFITTING/ UNDERFITTING. \n",
    "\n",
    "#Granularity of the dataset: each row represents a month and flight that has been delayed. \n",
    "\n",
    "# arrdel15: total number of delayed flights in the observation\n",
    "\n",
    "# carrier_ct : total number of delays due to the carrier\n",
    "\n",
    "#weather total number of delayes due to weather. \n",
    "\n",
    "#security_ct: total number of delats due to security. \n",
    "\n",
    "\n",
    "df.columns"
   ]
  },
  {
   "cell_type": "code",
   "execution_count": 141,
   "metadata": {},
   "outputs": [],
   "source": [
    "df = df.loc[:, ['year', 'month', 'carrier', 'carrier_name', 'airport', 'arr_flights', 'arr_del15', 'carrier_ct', 'weather_ct', 'security_ct']]\n",
    "\n",
    "df['on_time'] = df['arr_flights'] - df['arr_del15']\n",
    "\n"
   ]
  },
  {
   "cell_type": "code",
   "execution_count": 142,
   "metadata": {},
   "outputs": [
    {
     "data": {
      "text/html": [
       "<div>\n",
       "<style scoped>\n",
       "    .dataframe tbody tr th:only-of-type {\n",
       "        vertical-align: middle;\n",
       "    }\n",
       "\n",
       "    .dataframe tbody tr th {\n",
       "        vertical-align: top;\n",
       "    }\n",
       "\n",
       "    .dataframe thead th {\n",
       "        text-align: right;\n",
       "    }\n",
       "</style>\n",
       "<table border=\"1\" class=\"dataframe\">\n",
       "  <thead>\n",
       "    <tr style=\"text-align: right;\">\n",
       "      <th></th>\n",
       "      <th>year</th>\n",
       "      <th>month</th>\n",
       "      <th>arr_flights</th>\n",
       "      <th>arr_del15</th>\n",
       "      <th>carrier_ct</th>\n",
       "      <th>weather_ct</th>\n",
       "      <th>security_ct</th>\n",
       "      <th>on_time</th>\n",
       "    </tr>\n",
       "  </thead>\n",
       "  <tbody>\n",
       "    <tr>\n",
       "      <th>count</th>\n",
       "      <td>250.000000</td>\n",
       "      <td>250.000000</td>\n",
       "      <td>250.000000</td>\n",
       "      <td>250.00000</td>\n",
       "      <td>250.000000</td>\n",
       "      <td>250.000000</td>\n",
       "      <td>250.000000</td>\n",
       "      <td>250.000000</td>\n",
       "    </tr>\n",
       "    <tr>\n",
       "      <th>mean</th>\n",
       "      <td>2016.120000</td>\n",
       "      <td>6.560000</td>\n",
       "      <td>1426.368000</td>\n",
       "      <td>372.27600</td>\n",
       "      <td>66.070240</td>\n",
       "      <td>11.868080</td>\n",
       "      <td>0.505360</td>\n",
       "      <td>1054.092000</td>\n",
       "    </tr>\n",
       "    <tr>\n",
       "      <th>std</th>\n",
       "      <td>0.712482</td>\n",
       "      <td>3.401866</td>\n",
       "      <td>1352.969342</td>\n",
       "      <td>353.49884</td>\n",
       "      <td>64.543252</td>\n",
       "      <td>15.057421</td>\n",
       "      <td>0.961071</td>\n",
       "      <td>1044.329082</td>\n",
       "    </tr>\n",
       "    <tr>\n",
       "      <th>min</th>\n",
       "      <td>2015.000000</td>\n",
       "      <td>1.000000</td>\n",
       "      <td>56.000000</td>\n",
       "      <td>4.00000</td>\n",
       "      <td>2.000000</td>\n",
       "      <td>0.000000</td>\n",
       "      <td>0.000000</td>\n",
       "      <td>37.000000</td>\n",
       "    </tr>\n",
       "    <tr>\n",
       "      <th>25%</th>\n",
       "      <td>2016.000000</td>\n",
       "      <td>4.000000</td>\n",
       "      <td>461.750000</td>\n",
       "      <td>97.75000</td>\n",
       "      <td>16.455000</td>\n",
       "      <td>1.130000</td>\n",
       "      <td>0.000000</td>\n",
       "      <td>328.000000</td>\n",
       "    </tr>\n",
       "    <tr>\n",
       "      <th>50%</th>\n",
       "      <td>2016.000000</td>\n",
       "      <td>7.000000</td>\n",
       "      <td>1173.500000</td>\n",
       "      <td>257.00000</td>\n",
       "      <td>50.950000</td>\n",
       "      <td>6.770000</td>\n",
       "      <td>0.000000</td>\n",
       "      <td>831.500000</td>\n",
       "    </tr>\n",
       "    <tr>\n",
       "      <th>75%</th>\n",
       "      <td>2017.000000</td>\n",
       "      <td>9.000000</td>\n",
       "      <td>1710.000000</td>\n",
       "      <td>528.50000</td>\n",
       "      <td>82.220000</td>\n",
       "      <td>15.992500</td>\n",
       "      <td>0.725000</td>\n",
       "      <td>1232.000000</td>\n",
       "    </tr>\n",
       "    <tr>\n",
       "      <th>max</th>\n",
       "      <td>2017.000000</td>\n",
       "      <td>12.000000</td>\n",
       "      <td>6027.000000</td>\n",
       "      <td>1616.00000</td>\n",
       "      <td>353.010000</td>\n",
       "      <td>86.750000</td>\n",
       "      <td>5.750000</td>\n",
       "      <td>4438.000000</td>\n",
       "    </tr>\n",
       "  </tbody>\n",
       "</table>\n",
       "</div>"
      ],
      "text/plain": [
       "              year       month  arr_flights   arr_del15  carrier_ct  \\\n",
       "count   250.000000  250.000000   250.000000   250.00000  250.000000   \n",
       "mean   2016.120000    6.560000  1426.368000   372.27600   66.070240   \n",
       "std       0.712482    3.401866  1352.969342   353.49884   64.543252   \n",
       "min    2015.000000    1.000000    56.000000     4.00000    2.000000   \n",
       "25%    2016.000000    4.000000   461.750000    97.75000   16.455000   \n",
       "50%    2016.000000    7.000000  1173.500000   257.00000   50.950000   \n",
       "75%    2017.000000    9.000000  1710.000000   528.50000   82.220000   \n",
       "max    2017.000000   12.000000  6027.000000  1616.00000  353.010000   \n",
       "\n",
       "       weather_ct  security_ct      on_time  \n",
       "count  250.000000   250.000000   250.000000  \n",
       "mean    11.868080     0.505360  1054.092000  \n",
       "std     15.057421     0.961071  1044.329082  \n",
       "min      0.000000     0.000000    37.000000  \n",
       "25%      1.130000     0.000000   328.000000  \n",
       "50%      6.770000     0.000000   831.500000  \n",
       "75%     15.992500     0.725000  1232.000000  \n",
       "max     86.750000     5.750000  4438.000000  "
      ]
     },
     "execution_count": 142,
     "metadata": {},
     "output_type": "execute_result"
    }
   ],
   "source": [
    "df.describe()"
   ]
  },
  {
   "cell_type": "code",
   "execution_count": 143,
   "metadata": {},
   "outputs": [
    {
     "data": {
      "text/plain": [
       "2016    120\n",
       "2017     80\n",
       "2015     50\n",
       "Name: year, dtype: int64"
      ]
     },
     "execution_count": 143,
     "metadata": {},
     "output_type": "execute_result"
    }
   ],
   "source": [
    "df['year'].value_counts()"
   ]
  },
  {
   "cell_type": "code",
   "execution_count": 144,
   "metadata": {},
   "outputs": [
    {
     "data": {
      "text/plain": [
       "0    False\n",
       "dtype: bool"
      ]
     },
     "execution_count": 144,
     "metadata": {},
     "output_type": "execute_result"
    }
   ],
   "source": [
    "df['carrier_name'].str.extract(r'([a-zA-z]*) ').isna().any()"
   ]
  },
  {
   "cell_type": "code",
   "execution_count": 145,
   "metadata": {},
   "outputs": [
    {
     "data": {
      "text/plain": [
       "Alaska       25\n",
       "American     25\n",
       "Delta        25\n",
       "Frontier     25\n",
       "Hawaiian     25\n",
       "JetBlue      25\n",
       "SkyWest      25\n",
       "Southwest    25\n",
       "United       25\n",
       "Virgin       25\n",
       "dtype: int64"
      ]
     },
     "execution_count": 145,
     "metadata": {},
     "output_type": "execute_result"
    }
   ],
   "source": [
    "df['carrier_name'].str.extract(r'([a-zA-z]*) ').value_counts()"
   ]
  },
  {
   "cell_type": "code",
   "execution_count": 146,
   "metadata": {},
   "outputs": [],
   "source": [
    "df['carrier_name'] = df['carrier_name'].str.extract(r'([a-zA-z]*) ')"
   ]
  },
  {
   "cell_type": "code",
   "execution_count": 147,
   "metadata": {},
   "outputs": [
    {
     "data": {
      "text/plain": [
       "(array([0, 1, 2, 3, 4, 5, 6, 7, 8, 9]),\n",
       " [Text(0, 0, 'JetBlue'),\n",
       "  Text(1, 0, 'Delta'),\n",
       "  Text(2, 0, 'Frontier'),\n",
       "  Text(3, 0, 'Hawaiian'),\n",
       "  Text(4, 0, 'SkyWest'),\n",
       "  Text(5, 0, 'United'),\n",
       "  Text(6, 0, 'Virgin'),\n",
       "  Text(7, 0, 'Southwest'),\n",
       "  Text(8, 0, 'American'),\n",
       "  Text(9, 0, 'Alaska')])"
      ]
     },
     "execution_count": 147,
     "metadata": {},
     "output_type": "execute_result"
    },
    {
     "data": {
      "image/png": "[encoded data removed]",
      "text/plain": [
       "<Figure size 432x288 with 1 Axes>"
      ]
     },
     "metadata": {
      "needs_background": "light"
     },
     "output_type": "display_data"
    }
   ],
   "source": [
    "sns.countplot(x=df['carrier_name'])\n",
    "plt.xticks(rotation=45)"
   ]
  },
  {
   "cell_type": "code",
   "execution_count": 148,
   "metadata": {},
   "outputs": [
    {
     "data": {
      "text/plain": [
       "Text(0.5, 1.0, 'Carrier vs Delay Time in Minutes')"
      ]
     },
     "execution_count": 148,
     "metadata": {},
     "output_type": "execute_result"
    },
    {
     "data": {
      "image/png": "[encoded data removed]",
      "text/plain": [
       "<Figure size 432x288 with 1 Axes>"
      ]
     },
     "metadata": {
      "needs_background": "light"
     },
     "output_type": "display_data"
    }
   ],
   "source": [
    "sns.barplot(x=df['carrier_name'], y = df['arr_del15'], estimator=sum)\n",
    "# sns.barplot(x=df['carrier_name'], y = df['arr_del15'], estimator=np.mean)\n",
    "\n",
    "plt.xticks(rotation=45)\n",
    "plt.xlabel('Carrier')\n",
    "plt.ylabel('Delay time in minutes')\n",
    "plt.title('Carrier vs Delay Time in Minutes')\n"
   ]
  },
  {
   "cell_type": "code",
   "execution_count": 149,
   "metadata": {},
   "outputs": [
    {
     "data": {
      "text/plain": [
       "Text(0.5, 1.0, 'Carrier vs Average Delay time in minutes')"
      ]
     },
     "execution_count": 149,
     "metadata": {},
     "output_type": "execute_result"
    },
    {
     "data": {
      "image/png": "[encoded data removed]",
      "text/plain": [
       "<Figure size 432x288 with 1 Axes>"
      ]
     },
     "metadata": {
      "needs_background": "light"
     },
     "output_type": "display_data"
    }
   ],
   "source": [
    "sns.barplot(x=df['carrier_name'], y = df['arr_del15'], estimator=np.mean)\n",
    "plt.xticks(rotation=45)\n",
    "plt.xlabel('Carrier')\n",
    "plt.ylabel('Delay time in minutes')\n",
    "plt.title('Carrier vs Average Delay time in minutes')"
   ]
  },
  {
   "cell_type": "code",
   "execution_count": 150,
   "metadata": {},
   "outputs": [
    {
     "data": {
      "text/plain": [
       "<AxesSubplot:xlabel='carrier_ct', ylabel='Count'>"
      ]
     },
     "execution_count": 150,
     "metadata": {},
     "output_type": "execute_result"
    },
    {
     "data": {
      "image/png": "[encoded data removed]",
      "text/plain": [
       "<Figure size 432x288 with 1 Axes>"
      ]
     },
     "metadata": {
      "needs_background": "light"
     },
     "output_type": "display_data"
    }
   ],
   "source": [
    "sns.histplot(x=df['carrier_ct'])"
   ]
  },
  {
   "cell_type": "code",
   "execution_count": 151,
   "metadata": {},
   "outputs": [
    {
     "data": {
      "text/plain": [
       "<AxesSubplot:xlabel='on_time', ylabel='Count'>"
      ]
     },
     "execution_count": 151,
     "metadata": {},
     "output_type": "execute_result"
    },
    {
     "data": {
      "image/png": "[encoded data removed]",
      "text/plain": [
       "<Figure size 432x288 with 1 Axes>"
      ]
     },
     "metadata": {
      "needs_background": "light"
     },
     "output_type": "display_data"
    }
   ],
   "source": [
    "sns.histplot(x=df['on_time'])"
   ]
  },
  {
   "cell_type": "code",
   "execution_count": 152,
   "metadata": {},
   "outputs": [
    {
     "data": {
      "text/plain": [
       "<AxesSubplot:xlabel='arr_del15', ylabel='Count'>"
      ]
     },
     "execution_count": 152,
     "metadata": {},
     "output_type": "execute_result"
    },
    {
     "data": {
      "image/png": "[encoded data removed]",
      "text/plain": [
       "<Figure size 432x288 with 1 Axes>"
      ]
     },
     "metadata": {
      "needs_background": "light"
     },
     "output_type": "display_data"
    }
   ],
   "source": [
    "sns.histplot(x=df['arr_del15'])"
   ]
  },
  {
   "cell_type": "code",
   "execution_count": 153,
   "metadata": {},
   "outputs": [],
   "source": [
    "# weather_delays_average = []\n",
    "delays_average = []\n",
    "on_time_average = []\n",
    "\n",
    "for i in range(1000):\n",
    "    sampled = df[df['carrier_name'] == 'United'].sample(15, replace=True)\n",
    "    \n",
    "    del_avg = np.mean(sampled['arr_del15'])\n",
    "    on_time_avg = np.mean(sampled['on_time'])\n",
    "    \n",
    "    delays_average.append(del_avg)\n",
    "    on_time_average.append(on_time_avg)"
   ]
  },
  {
   "cell_type": "code",
   "execution_count": 154,
   "metadata": {},
   "outputs": [
    {
     "data": {
      "text/plain": [
       "839.12"
      ]
     },
     "execution_count": 154,
     "metadata": {},
     "output_type": "execute_result"
    }
   ],
   "source": [
    "np.percentile(delays_average, 2.5)"
   ]
  },
  {
   "cell_type": "code",
   "execution_count": 155,
   "metadata": {},
   "outputs": [
    {
     "name": "stdout",
     "output_type": "stream",
     "text": [
      "839.12 1146.0216666666665\n",
      "3226.3983333333335 3758.4583333333335\n"
     ]
    }
   ],
   "source": [
    "print(np.percentile(delays_average, 2.5), np.percentile(delays_average, 97.5))\n",
    "\n",
    "\n",
    "print(np.percentile(on_time_average, 2.5), np.percentile(on_time_average, 97.5))\n",
    "\n"
   ]
  },
  {
   "cell_type": "code",
   "execution_count": 156,
   "metadata": {},
   "outputs": [
    {
     "data": {
      "text/plain": [
       "<AxesSubplot:xlabel='carrier_ct', ylabel='security_ct'>"
      ]
     },
     "execution_count": 156,
     "metadata": {},
     "output_type": "execute_result"
    },
    {
     "data": {
      "image/png": "[encoded data removed]",
      "text/plain": [
       "<Figure size 432x288 with 1 Axes>"
      ]
     },
     "metadata": {
      "needs_background": "light"
     },
     "output_type": "display_data"
    }
   ],
   "source": [
    "sns.regplot(x=df['carrier_ct'], y=df['security_ct']) #no correlation"
   ]
  },
  {
   "cell_type": "code",
   "execution_count": 157,
   "metadata": {},
   "outputs": [
    {
     "data": {
      "text/plain": [
       "JetBlue      25\n",
       "Delta        25\n",
       "Frontier     25\n",
       "Hawaiian     25\n",
       "SkyWest      25\n",
       "United       25\n",
       "Virgin       25\n",
       "Southwest    25\n",
       "American     25\n",
       "Alaska       25\n",
       "Name: carrier_name, dtype: int64"
      ]
     },
     "execution_count": 157,
     "metadata": {},
     "output_type": "execute_result"
    }
   ],
   "source": [
    "df['carrier_name'].value_counts()"
   ]
  },
  {
   "cell_type": "code",
   "execution_count": 158,
   "metadata": {},
   "outputs": [
    {
     "data": {
      "text/plain": [
       "0      False\n",
       "1      False\n",
       "2      False\n",
       "3      False\n",
       "4      False\n",
       "       ...  \n",
       "245    False\n",
       "246    False\n",
       "247    False\n",
       "248     True\n",
       "249    False\n",
       "Name: carrier_name, Length: 250, dtype: bool"
      ]
     },
     "execution_count": 158,
     "metadata": {},
     "output_type": "execute_result"
    }
   ],
   "source": [
    "df['carrier_name'] == 'Virgin'"
   ]
  },
  {
   "cell_type": "code",
   "execution_count": 160,
   "metadata": {},
   "outputs": [],
   "source": [
    "df = df[(df['carrier_name'] == \"United\") | (df['carrier_name'] == 'Virgin')]\n",
    "carrier_names = np.array(df['carrier_name'].unique())\n",
    "united_val = (carrier_names == 'United') + 0\n",
    "map_values = dict(zip(carrier_names, united_val))"
   ]
  },
  {
   "cell_type": "code",
   "execution_count": 163,
   "metadata": {},
   "outputs": [],
   "source": [
    "df['carrier_name'] = df['carrier_name'].map(map_values)"
   ]
  },
  {
   "cell_type": "code",
   "execution_count": null,
   "metadata": {},
   "outputs": [],
   "source": [
    "df"
   ]
  },
  {
   "cell_type": "code",
   "execution_count": 164,
   "metadata": {},
   "outputs": [
    {
     "data": {
      "text/html": [
       "<div>\n",
       "<style scoped>\n",
       "    .dataframe tbody tr th:only-of-type {\n",
       "        vertical-align: middle;\n",
       "    }\n",
       "\n",
       "    .dataframe tbody tr th {\n",
       "        vertical-align: top;\n",
       "    }\n",
       "\n",
       "    .dataframe thead th {\n",
       "        text-align: right;\n",
       "    }\n",
       "</style>\n",
       "<table border=\"1\" class=\"dataframe\">\n",
       "  <thead>\n",
       "    <tr style=\"text-align: right;\">\n",
       "      <th></th>\n",
       "      <th>year</th>\n",
       "      <th>month</th>\n",
       "      <th>carrier</th>\n",
       "      <th>carrier_name</th>\n",
       "      <th>airport</th>\n",
       "      <th>arr_flights</th>\n",
       "      <th>arr_del15</th>\n",
       "      <th>carrier_ct</th>\n",
       "      <th>weather_ct</th>\n",
       "      <th>security_ct</th>\n",
       "      <th>on_time</th>\n",
       "    </tr>\n",
       "  </thead>\n",
       "  <tbody>\n",
       "    <tr>\n",
       "      <th>5</th>\n",
       "      <td>2017</td>\n",
       "      <td>8</td>\n",
       "      <td>UA</td>\n",
       "      <td>1</td>\n",
       "      <td>SFO</td>\n",
       "      <td>6027.0</td>\n",
       "      <td>1616.0</td>\n",
       "      <td>233.25</td>\n",
       "      <td>48.00</td>\n",
       "      <td>1.19</td>\n",
       "      <td>4411.0</td>\n",
       "    </tr>\n",
       "    <tr>\n",
       "      <th>6</th>\n",
       "      <td>2017</td>\n",
       "      <td>8</td>\n",
       "      <td>VX</td>\n",
       "      <td>0</td>\n",
       "      <td>SFO</td>\n",
       "      <td>1906.0</td>\n",
       "      <td>797.0</td>\n",
       "      <td>95.60</td>\n",
       "      <td>14.82</td>\n",
       "      <td>0.71</td>\n",
       "      <td>1109.0</td>\n",
       "    </tr>\n",
       "    <tr>\n",
       "      <th>17</th>\n",
       "      <td>2017</td>\n",
       "      <td>7</td>\n",
       "      <td>UA</td>\n",
       "      <td>1</td>\n",
       "      <td>SFO</td>\n",
       "      <td>5372.0</td>\n",
       "      <td>934.0</td>\n",
       "      <td>216.07</td>\n",
       "      <td>36.36</td>\n",
       "      <td>0.00</td>\n",
       "      <td>4438.0</td>\n",
       "    </tr>\n",
       "    <tr>\n",
       "      <th>18</th>\n",
       "      <td>2017</td>\n",
       "      <td>7</td>\n",
       "      <td>VX</td>\n",
       "      <td>0</td>\n",
       "      <td>SFO</td>\n",
       "      <td>1886.0</td>\n",
       "      <td>493.0</td>\n",
       "      <td>65.44</td>\n",
       "      <td>11.04</td>\n",
       "      <td>2.56</td>\n",
       "      <td>1393.0</td>\n",
       "    </tr>\n",
       "    <tr>\n",
       "      <th>27</th>\n",
       "      <td>2017</td>\n",
       "      <td>6</td>\n",
       "      <td>UA</td>\n",
       "      <td>1</td>\n",
       "      <td>SFO</td>\n",
       "      <td>5118.0</td>\n",
       "      <td>1266.0</td>\n",
       "      <td>252.83</td>\n",
       "      <td>28.25</td>\n",
       "      <td>0.00</td>\n",
       "      <td>3852.0</td>\n",
       "    </tr>\n",
       "  </tbody>\n",
       "</table>\n",
       "</div>"
      ],
      "text/plain": [
       "    year  month carrier  carrier_name airport  arr_flights  arr_del15  \\\n",
       "5   2017      8      UA             1     SFO       6027.0     1616.0   \n",
       "6   2017      8      VX             0     SFO       1906.0      797.0   \n",
       "17  2017      7      UA             1     SFO       5372.0      934.0   \n",
       "18  2017      7      VX             0     SFO       1886.0      493.0   \n",
       "27  2017      6      UA             1     SFO       5118.0     1266.0   \n",
       "\n",
       "    carrier_ct  weather_ct  security_ct  on_time  \n",
       "5       233.25       48.00         1.19   4411.0  \n",
       "6        95.60       14.82         0.71   1109.0  \n",
       "17      216.07       36.36         0.00   4438.0  \n",
       "18       65.44       11.04         2.56   1393.0  \n",
       "27      252.83       28.25         0.00   3852.0  "
      ]
     },
     "execution_count": 164,
     "metadata": {},
     "output_type": "execute_result"
    }
   ],
   "source": [
    "df.head()"
   ]
  },
  {
   "cell_type": "code",
   "execution_count": 166,
   "metadata": {},
   "outputs": [],
   "source": [
    "\n",
    "Y = df['carrier_name']\n",
    "X = pd.get_dummies(df)\n",
    "X.drop(columns=['carrier_name'], inplace=True)\n"
   ]
  },
  {
   "cell_type": "code",
   "execution_count": 173,
   "metadata": {},
   "outputs": [],
   "source": [
    "X_train, X_test, Y_train, Y_test = train_test_split(X, Y, test_size=0.35, random_state=42)"
   ]
  },
  {
   "cell_type": "code",
   "execution_count": 178,
   "metadata": {},
   "outputs": [
    {
     "data": {
      "text/html": [
       "<div>\n",
       "<style scoped>\n",
       "    .dataframe tbody tr th:only-of-type {\n",
       "        vertical-align: middle;\n",
       "    }\n",
       "\n",
       "    .dataframe tbody tr th {\n",
       "        vertical-align: top;\n",
       "    }\n",
       "\n",
       "    .dataframe thead th {\n",
       "        text-align: right;\n",
       "    }\n",
       "</style>\n",
       "<table border=\"1\" class=\"dataframe\">\n",
       "  <thead>\n",
       "    <tr style=\"text-align: right;\">\n",
       "      <th></th>\n",
       "      <th>year</th>\n",
       "      <th>month</th>\n",
       "      <th>arr_flights</th>\n",
       "      <th>arr_del15</th>\n",
       "      <th>carrier_ct</th>\n",
       "      <th>weather_ct</th>\n",
       "      <th>security_ct</th>\n",
       "      <th>on_time</th>\n",
       "      <th>carrier_UA</th>\n",
       "      <th>carrier_VX</th>\n",
       "      <th>airport_SFO</th>\n",
       "    </tr>\n",
       "  </thead>\n",
       "  <tbody>\n",
       "    <tr>\n",
       "      <th>138</th>\n",
       "      <td>2016</td>\n",
       "      <td>7</td>\n",
       "      <td>1807.0</td>\n",
       "      <td>430.0</td>\n",
       "      <td>88.20</td>\n",
       "      <td>19.79</td>\n",
       "      <td>0.18</td>\n",
       "      <td>1377.0</td>\n",
       "      <td>0</td>\n",
       "      <td>1</td>\n",
       "      <td>1</td>\n",
       "    </tr>\n",
       "    <tr>\n",
       "      <th>127</th>\n",
       "      <td>2016</td>\n",
       "      <td>8</td>\n",
       "      <td>5441.0</td>\n",
       "      <td>1305.0</td>\n",
       "      <td>322.91</td>\n",
       "      <td>30.20</td>\n",
       "      <td>0.06</td>\n",
       "      <td>4136.0</td>\n",
       "      <td>1</td>\n",
       "      <td>0</td>\n",
       "      <td>1</td>\n",
       "    </tr>\n",
       "    <tr>\n",
       "      <th>38</th>\n",
       "      <td>2017</td>\n",
       "      <td>5</td>\n",
       "      <td>1802.0</td>\n",
       "      <td>723.0</td>\n",
       "      <td>88.52</td>\n",
       "      <td>10.09</td>\n",
       "      <td>1.08</td>\n",
       "      <td>1079.0</td>\n",
       "      <td>0</td>\n",
       "      <td>1</td>\n",
       "      <td>1</td>\n",
       "    </tr>\n",
       "    <tr>\n",
       "      <th>28</th>\n",
       "      <td>2017</td>\n",
       "      <td>6</td>\n",
       "      <td>1829.0</td>\n",
       "      <td>657.0</td>\n",
       "      <td>110.45</td>\n",
       "      <td>6.37</td>\n",
       "      <td>3.97</td>\n",
       "      <td>1172.0</td>\n",
       "      <td>0</td>\n",
       "      <td>1</td>\n",
       "      <td>1</td>\n",
       "    </tr>\n",
       "    <tr>\n",
       "      <th>87</th>\n",
       "      <td>2016</td>\n",
       "      <td>12</td>\n",
       "      <td>4398.0</td>\n",
       "      <td>1409.0</td>\n",
       "      <td>353.01</td>\n",
       "      <td>50.02</td>\n",
       "      <td>2.00</td>\n",
       "      <td>2989.0</td>\n",
       "      <td>1</td>\n",
       "      <td>0</td>\n",
       "      <td>1</td>\n",
       "    </tr>\n",
       "    <tr>\n",
       "      <th>...</th>\n",
       "      <td>...</td>\n",
       "      <td>...</td>\n",
       "      <td>...</td>\n",
       "      <td>...</td>\n",
       "      <td>...</td>\n",
       "      <td>...</td>\n",
       "      <td>...</td>\n",
       "      <td>...</td>\n",
       "      <td>...</td>\n",
       "      <td>...</td>\n",
       "      <td>...</td>\n",
       "    </tr>\n",
       "    <tr>\n",
       "      <th>90</th>\n",
       "      <td>2016</td>\n",
       "      <td>11</td>\n",
       "      <td>4373.0</td>\n",
       "      <td>670.0</td>\n",
       "      <td>187.13</td>\n",
       "      <td>6.66</td>\n",
       "      <td>0.00</td>\n",
       "      <td>3703.0</td>\n",
       "      <td>1</td>\n",
       "      <td>0</td>\n",
       "      <td>1</td>\n",
       "    </tr>\n",
       "    <tr>\n",
       "      <th>117</th>\n",
       "      <td>2016</td>\n",
       "      <td>9</td>\n",
       "      <td>4693.0</td>\n",
       "      <td>711.0</td>\n",
       "      <td>217.99</td>\n",
       "      <td>16.84</td>\n",
       "      <td>0.00</td>\n",
       "      <td>3982.0</td>\n",
       "      <td>1</td>\n",
       "      <td>0</td>\n",
       "      <td>1</td>\n",
       "    </tr>\n",
       "    <tr>\n",
       "      <th>90</th>\n",
       "      <td>2016</td>\n",
       "      <td>11</td>\n",
       "      <td>4373.0</td>\n",
       "      <td>670.0</td>\n",
       "      <td>187.13</td>\n",
       "      <td>6.66</td>\n",
       "      <td>0.00</td>\n",
       "      <td>3703.0</td>\n",
       "      <td>1</td>\n",
       "      <td>0</td>\n",
       "      <td>1</td>\n",
       "    </tr>\n",
       "    <tr>\n",
       "      <th>148</th>\n",
       "      <td>2016</td>\n",
       "      <td>6</td>\n",
       "      <td>1782.0</td>\n",
       "      <td>422.0</td>\n",
       "      <td>73.06</td>\n",
       "      <td>24.11</td>\n",
       "      <td>2.29</td>\n",
       "      <td>1360.0</td>\n",
       "      <td>0</td>\n",
       "      <td>1</td>\n",
       "      <td>1</td>\n",
       "    </tr>\n",
       "    <tr>\n",
       "      <th>38</th>\n",
       "      <td>2017</td>\n",
       "      <td>5</td>\n",
       "      <td>1802.0</td>\n",
       "      <td>723.0</td>\n",
       "      <td>88.52</td>\n",
       "      <td>10.09</td>\n",
       "      <td>1.08</td>\n",
       "      <td>1079.0</td>\n",
       "      <td>0</td>\n",
       "      <td>1</td>\n",
       "      <td>1</td>\n",
       "    </tr>\n",
       "  </tbody>\n",
       "</table>\n",
       "<p>100 rows × 11 columns</p>\n",
       "</div>"
      ],
      "text/plain": [
       "     year  month  arr_flights  arr_del15  carrier_ct  weather_ct  security_ct  \\\n",
       "138  2016      7       1807.0      430.0       88.20       19.79         0.18   \n",
       "127  2016      8       5441.0     1305.0      322.91       30.20         0.06   \n",
       "38   2017      5       1802.0      723.0       88.52       10.09         1.08   \n",
       "28   2017      6       1829.0      657.0      110.45        6.37         3.97   \n",
       "87   2016     12       4398.0     1409.0      353.01       50.02         2.00   \n",
       "..    ...    ...          ...        ...         ...         ...          ...   \n",
       "90   2016     11       4373.0      670.0      187.13        6.66         0.00   \n",
       "117  2016      9       4693.0      711.0      217.99       16.84         0.00   \n",
       "90   2016     11       4373.0      670.0      187.13        6.66         0.00   \n",
       "148  2016      6       1782.0      422.0       73.06       24.11         2.29   \n",
       "38   2017      5       1802.0      723.0       88.52       10.09         1.08   \n",
       "\n",
       "     on_time  carrier_UA  carrier_VX  airport_SFO  \n",
       "138   1377.0           0           1            1  \n",
       "127   4136.0           1           0            1  \n",
       "38    1079.0           0           1            1  \n",
       "28    1172.0           0           1            1  \n",
       "87    2989.0           1           0            1  \n",
       "..       ...         ...         ...          ...  \n",
       "90    3703.0           1           0            1  \n",
       "117   3982.0           1           0            1  \n",
       "90    3703.0           1           0            1  \n",
       "148   1360.0           0           1            1  \n",
       "38    1079.0           0           1            1  \n",
       "\n",
       "[100 rows x 11 columns]"
      ]
     },
     "execution_count": 178,
     "metadata": {},
     "output_type": "execute_result"
    }
   ],
   "source": [
    "# X_train.sample(100, replace=True)"
   ]
  },
  {
   "cell_type": "code",
   "execution_count": 179,
   "metadata": {},
   "outputs": [],
   "source": [
    "# Note we don't have enough data and sampling leads will lead to overfitting the values on the training set hence i don't sample but the confusion matrix is built out below\n",
    "\n",
    "clf = svm.SVC(kernel='linear')\n",
    "clf.fit(X_train, Y_train)\n",
    "y_pred = clf.predict(X_test)"
   ]
  },
  {
   "cell_type": "code",
   "execution_count": 176,
   "metadata": {},
   "outputs": [
    {
     "name": "stdout",
     "output_type": "stream",
     "text": [
      "Accuracy: 1.0\n",
      "Precision: 1.0\n",
      "Precision: 1.0\n"
     ]
    },
    {
     "data": {
      "text/plain": [
       "array([[9, 0],\n",
       "       [0, 9]])"
      ]
     },
     "execution_count": 176,
     "metadata": {},
     "output_type": "execute_result"
    }
   ],
   "source": [
    "print(\"Accuracy:\", metrics.accuracy_score(Y_test, y_pred))\n",
    "print(\"Precision:\",metrics.precision_score(Y_test, y_pred))\n",
    "print('Precision:', metrics.recall_score(Y_test, y_pred))\n",
    "metrics.confusion_matrix(Y_test, y_pred)"
   ]
  },
  {
   "cell_type": "code",
   "execution_count": 181,
   "metadata": {},
   "outputs": [
    {
     "data": {
      "text/plain": [
       "array([[9, 0],\n",
       "       [0, 9]])"
      ]
     },
     "execution_count": 181,
     "metadata": {},
     "output_type": "execute_result"
    }
   ],
   "source": [
    "lr = LogisticRegression()\n",
    "lr.fit(X_train, Y_train)\n",
    "y_pred = lr.predict(X_test)\n",
    "\n",
    "metrics.confusion_matrix(Y_test, y_pred)"
   ]
  },
  {
   "cell_type": "code",
   "execution_count": 185,
   "metadata": {},
   "outputs": [
    {
     "data": {
      "image/png": "[encoded data removed]",
      "text/plain": [
       "<Figure size 432x288 with 1 Axes>"
      ]
     },
     "metadata": {
      "needs_background": "light"
     },
     "output_type": "display_data"
    }
   ],
   "source": [
    "y_pred_proba = lr.predict_proba(X_test)[::,1]\n",
    "fpr, tpr, _ = metrics.roc_curve(Y_test,  y_pred_proba)\n",
    "auc = metrics.roc_auc_score(Y_test, y_pred_proba)\n",
    "plt.plot(fpr,tpr,label=\"data 1, auc=\"+str(auc))\n",
    "plt.legend(loc=4)\n",
    "plt.show()"
   ]
  },
  {
   "cell_type": "code",
   "execution_count": null,
   "metadata": {},
   "outputs": [],
   "source": []
  }
 ],
 "metadata": {
  "kernelspec": {
   "display_name": "Python 3",
   "language": "python",
   "name": "python3"
  },
  "language_info": {
   "codemirror_mode": {
    "name": "ipython",
    "version": 3
   },
   "file_extension": ".py",
   "mimetype": "text/x-python",
   "name": "python",
   "nbconvert_exporter": "python",
   "pygments_lexer": "ipython3",
   "version": "3.8.3"
  }
 },
 "nbformat": 4,
 "nbformat_minor": 4
}
